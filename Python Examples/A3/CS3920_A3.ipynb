{
 "cells": [
  {
   "cell_type": "code",
   "execution_count": null,
   "metadata": {},
   "outputs": [],
   "source": [
    "# Loading wine dataset and splitting into a train and test set"
   ]
  },
  {
   "cell_type": "code",
   "execution_count": 94,
   "metadata": {},
   "outputs": [],
   "source": [
    "import numpy as np\n",
    "from sklearn.datasets import load_wine\n",
    "from sklearn.model_selection import train_test_split\n",
    "wine = load_wine()\n",
    "X_train_w, X_test_w, y_train_w, y_test_w = train_test_split(wine.data,\n",
    "                                                            wine.target,\n",
    "                                                            random_state=1103)\n"
   ]
  },
  {
   "cell_type": "code",
   "execution_count": null,
   "metadata": {},
   "outputs": [],
   "source": [
    "# Checking shape"
   ]
  },
  {
   "cell_type": "code",
   "execution_count": 95,
   "metadata": {},
   "outputs": [
    {
     "name": "stdout",
     "output_type": "stream",
     "text": [
      "(133, 13) (45, 13)\n"
     ]
    }
   ],
   "source": [
    "print(X_train_w.shape, X_test_w.shape)"
   ]
  },
  {
   "cell_type": "code",
   "execution_count": null,
   "metadata": {},
   "outputs": [],
   "source": [
    "# Loading USPS dataset and splitting into a train and test set"
   ]
  },
  {
   "cell_type": "code",
   "execution_count": 101,
   "metadata": {},
   "outputs": [],
   "source": [
    "train_USPS = np.genfromtxt(\"zip.train\", delimiter = \"\")\n",
    "test_USPS = np.genfromtxt(\"zip.test\", delimiter = \"\")\n",
    "data_USPS = np.r_[train_USPS, test_USPS]\n",
    "target_USPS = data_USPS[:,0]\n",
    "\n",
    "X_train_USPS, X_test_USPS, y_train_USPS, y_test_USPS = train_test_split(data_USPS,\n",
    "                                                                       target_USPS,\n",
    "                                                                       random_state=1104)"
   ]
  },
  {
   "cell_type": "code",
   "execution_count": null,
   "metadata": {},
   "outputs": [],
   "source": [
    "# Checking shape"
   ]
  },
  {
   "cell_type": "code",
   "execution_count": 102,
   "metadata": {},
   "outputs": [
    {
     "name": "stdout",
     "output_type": "stream",
     "text": [
      "(6973, 257) (2325, 257)\n"
     ]
    }
   ],
   "source": [
    "print(X_train_USPS.shape, X_test_USPS.shape)"
   ]
  },
  {
   "cell_type": "code",
   "execution_count": 103,
   "metadata": {},
   "outputs": [],
   "source": [
    "# Using cross validation on wine dataset\n",
    "\n",
    "from sklearn.svm import SVC\n",
    "from sklearn.model_selection import cross_val_score\n"
   ]
  },
  {
   "cell_type": "code",
   "execution_count": 160,
   "metadata": {},
   "outputs": [
    {
     "data": {
      "text/plain": [
       "0.7296296296296296"
      ]
     },
     "execution_count": 160,
     "metadata": {},
     "output_type": "execute_result"
    }
   ],
   "source": [
    "cross_validation = cross_val_score(SVC(), X_train_w, y_train_w)\n",
    "np.mean(cross_validation)"
   ]
  },
  {
   "cell_type": "code",
   "execution_count": 166,
   "metadata": {},
   "outputs": [
    {
     "data": {
      "text/plain": [
       "0.6888888888888889"
      ]
     },
     "execution_count": 166,
     "metadata": {},
     "output_type": "execute_result"
    }
   ],
   "source": [
    "# Using svm.fit and svm.score\n",
    "\n",
    "svm.fit(X_train_w, y_train_w)\n",
    "svm.score(X_test_w, y_test_w)"
   ]
  },
  {
   "cell_type": "code",
   "execution_count": null,
   "metadata": {},
   "outputs": [],
   "source": [
    "# We see both cross validation and using SVM dont provide very accurate\n",
    "# results, they are quite decent but nothing to be too sure with.\n",
    "# Cross validation does prove to be slightly better."
   ]
  },
  {
   "cell_type": "code",
   "execution_count": 106,
   "metadata": {},
   "outputs": [
    {
     "data": {
      "text/plain": [
       "0.990678329553694"
      ]
     },
     "execution_count": 106,
     "metadata": {},
     "output_type": "execute_result"
    }
   ],
   "source": [
    "# Now doing the same for USPS dataset\n",
    "\n",
    "cross_validation_USPS = cross_val_score(svm, X_train_USPS, y_train_USPS)\n",
    "np.mean(cross_validation_USPS)"
   ]
  },
  {
   "cell_type": "code",
   "execution_count": 255,
   "metadata": {},
   "outputs": [
    {
     "data": {
      "text/plain": [
       "0.9913978494623656"
      ]
     },
     "execution_count": 255,
     "metadata": {},
     "output_type": "execute_result"
    }
   ],
   "source": [
    "# Using svm for USPS\n",
    "\n",
    "svm.fit(X_train_USPS, y_train_USPS)\n",
    "score =  svm.score(X_test_USPS, y_test_USPS)\n",
    "score"
   ]
  },
  {
   "cell_type": "code",
   "execution_count": null,
   "metadata": {},
   "outputs": [],
   "source": [
    "# These results are much more accurate, both are also very similar,\n",
    "# so cross validation on USPS is better than on wine dataset."
   ]
  },
  {
   "cell_type": "code",
   "execution_count": null,
   "metadata": {},
   "outputs": [],
   "source": [
    "# now for wine dataset: Task 5 and 6 below using code from lab 9"
   ]
  },
  {
   "cell_type": "code",
   "execution_count": 108,
   "metadata": {},
   "outputs": [],
   "source": [
    "from sklearn.pipeline import make_pipeline\n",
    "from sklearn.preprocessing import StandardScaler, MinMaxScaler, RobustScaler, Normalizer\n",
    "from sklearn.model_selection import GridSearchCV"
   ]
  },
  {
   "cell_type": "code",
   "execution_count": 254,
   "metadata": {},
   "outputs": [
    {
     "name": "stdout",
     "output_type": "stream",
     "text": [
      "Best cross-validation accuracy: 0.9253561253561253\n",
      "Test set score: 0.8888888888888888\n",
      "Best parameters: {'svc__C': 100, 'svc__gamma': 100}\n"
     ]
    }
   ],
   "source": [
    "# Standard Scaler\n",
    "\n",
    "SS_pipe = make_pipeline(Normalizer(), SVC())\n",
    "param_grid = {'svc__C': [0.01, 0.1, 1, 10, 100], 'svc__gamma': [0.01, 0.1, 1, 10, 100]}\n",
    "\n",
    "grid = GridSearchCV(SS_pipe, param_grid=param_grid, cv=5)\n",
    "grid.fit(X_train_w, y_train_w)\n",
    "print(\"Best cross-validation accuracy:\", grid.best_score_)\n",
    "print(\"Test set score:\", grid.score(X_test_w, y_test_w))\n",
    "print(\"Best parameters:\", grid.best_params_)"
   ]
  },
  {
   "cell_type": "code",
   "execution_count": 110,
   "metadata": {},
   "outputs": [
    {
     "name": "stdout",
     "output_type": "stream",
     "text": [
      "Best cross-validation accuracy: 0.9774928774928775\n",
      "Test set score: 1.0\n",
      "Best parameters: {'svc__C': 1, 'svc__gamma': 1}\n"
     ]
    }
   ],
   "source": [
    "# MinMaxScaler\n",
    "MMS_pipe = make_pipeline(MinMaxScaler(), SVC())\n",
    "\n",
    "grid = GridSearchCV(MMS_pipe, param_grid=param_grid, cv=5)\n",
    "grid.fit(X_train, y_train)\n",
    "print(\"Best cross-validation accuracy:\", grid.best_score_)\n",
    "print(\"Test set score:\", grid.score(X_test, y_test))\n",
    "print(\"Best parameters:\", grid.best_params_)"
   ]
  },
  {
   "cell_type": "code",
   "execution_count": 111,
   "metadata": {},
   "outputs": [
    {
     "name": "stdout",
     "output_type": "stream",
     "text": [
      "Best cross-validation accuracy: 0.97008547008547\n",
      "Test set score: 1.0\n",
      "Best parameters: {'svc__C': 1, 'svc__gamma': 0.01}\n"
     ]
    }
   ],
   "source": [
    "# Robust Scaler\n",
    "RS_pipe = make_pipeline(RobustScaler(), SVC())\n",
    "\n",
    "grid = GridSearchCV(RS_pipe, param_grid=param_grid, cv=5)\n",
    "grid.fit(X_train, y_train)\n",
    "print(\"Best cross-validation accuracy:\", grid.best_score_)\n",
    "print(\"Test set score:\", grid.score(X_test, y_test))\n",
    "print(\"Best parameters:\", grid.best_params_)"
   ]
  },
  {
   "cell_type": "code",
   "execution_count": 112,
   "metadata": {},
   "outputs": [
    {
     "name": "stdout",
     "output_type": "stream",
     "text": [
      "Best cross-validation accuracy: 0.9626780626780626\n",
      "Test set score: 0.9111111111111111\n",
      "Best parameters: {'svc__C': 100, 'svc__gamma': 100}\n"
     ]
    }
   ],
   "source": [
    "# Normaliser\n",
    "N_pipe = make_pipeline(Normalizer(), SVC())\n",
    "\n",
    "grid = GridSearchCV(N_pipe, param_grid=param_grid, cv=5)\n",
    "grid.fit(X_train, y_train)\n",
    "print(\"Best cross-validation accuracy:\", grid.best_score_)\n",
    "print(\"Test set score:\", grid.score(X_test, y_test))\n",
    "print(\"Best parameters:\", grid.best_params_)"
   ]
  },
  {
   "cell_type": "code",
   "execution_count": null,
   "metadata": {},
   "outputs": [],
   "source": [
    "# MinMax and Robust Scalers provided the highest accuracies of 97%\n",
    "# The worst is StandardScaler however even 92% isnt that bad. All 4\n",
    "# Scaler methods provide a decent accuracy."
   ]
  },
  {
   "cell_type": "code",
   "execution_count": null,
   "metadata": {},
   "outputs": [],
   "source": [
    "# Now for USPS dataset: Task 5 and 6 below using code from lab 9, again...\n",
    "# I will use less parameters for C and gamma as it would take too long\n",
    "# otherwise."
   ]
  },
  {
   "cell_type": "code",
   "execution_count": 245,
   "metadata": {},
   "outputs": [
    {
     "name": "stdout",
     "output_type": "stream",
     "text": [
      "Best cross-validation accuracy: 0.994120012547374\n",
      "Test set score: 0.993978494623656\n",
      "Best parameters: {'svc__C': 100, 'svc__gamma': 0.1}\n"
     ]
    }
   ],
   "source": [
    "# Standard Scalar\n",
    "\n",
    "# Using less parameters as it was taking hours to compute otherwise\n",
    "param_grid = {'svc__C': [10, 100], 'svc__gamma': [0.1, 1]}\n",
    "\n",
    "\n",
    "grid = GridSearchCV(SS_pipe, param_grid=param_grid)\n",
    "grid.fit(X_train_USPS, y_train_USPS)\n",
    "print(\"Best cross-validation accuracy:\", grid.best_score_)\n",
    "print(\"Test set score:\", grid.score(X_test_USPS, y_test_USPS))\n",
    "print(\"Best parameters:\", grid.best_params_)"
   ]
  },
  {
   "cell_type": "code",
   "execution_count": 246,
   "metadata": {},
   "outputs": [
    {
     "name": "stdout",
     "output_type": "stream",
     "text": [
      "Best cross-validation accuracy: 0.9665850058880097\n",
      "Test set score: 0.9655913978494624\n",
      "Best parameters: {'svc__C': 10, 'svc__gamma': 0.1}\n"
     ]
    }
   ],
   "source": [
    "# MinMax Scaler\n",
    "\n",
    "grid = GridSearchCV(MMS_pipe, param_grid=param_grid)\n",
    "grid.fit(X_train_USPS, y_train_USPS)\n",
    "print(\"Best cross-validation accuracy:\", grid.best_score_)\n",
    "print(\"Test set score:\", grid.score(X_test_USPS, y_test_USPS))\n",
    "print(\"Best parameters:\", grid.best_params_)"
   ]
  },
  {
   "cell_type": "code",
   "execution_count": 247,
   "metadata": {},
   "outputs": [
    {
     "name": "stdout",
     "output_type": "stream",
     "text": [
      "Best cross-validation accuracy: 0.46048862765667503\n",
      "Test set score: 0.4924731182795699\n",
      "Best parameters: {'svc__C': 10, 'svc__gamma': 0.1}\n"
     ]
    }
   ],
   "source": [
    "# Robust Scaler\n",
    "\n",
    "grid = GridSearchCV(RS_pipe, param_grid=param_grid)\n",
    "grid.fit(X_train_USPS, y_train_USPS)\n",
    "print(\"Best cross-validation accuracy:\", grid.best_score_)\n",
    "print(\"Test set score:\", grid.score(X_test_USPS, y_test_USPS))\n",
    "print(\"Best parameters:\", grid.best_params_)"
   ]
  },
  {
   "cell_type": "code",
   "execution_count": 248,
   "metadata": {},
   "outputs": [
    {
     "name": "stdout",
     "output_type": "stream",
     "text": [
      "Best cross-validation accuracy: 0.994120012547374\n",
      "Test set score: 0.993978494623656\n",
      "Best parameters: {'svc__C': 100, 'svc__gamma': 0.1}\n"
     ]
    }
   ],
   "source": [
    "# Normalised\n",
    "\n",
    "grid = GridSearchCV(N_pipe, param_grid=param_grid)\n",
    "grid.fit(X_train_USPS, y_train_USPS)\n",
    "print(\"Best cross-validation accuracy:\", grid.best_score_)\n",
    "print(\"Test set score:\", grid.score(X_test_USPS, y_test_USPS))\n",
    "print(\"Best parameters:\", grid.best_params_)"
   ]
  },
  {
   "cell_type": "code",
   "execution_count": null,
   "metadata": {},
   "outputs": [],
   "source": [
    "# Firstly we can see that the RobustScaler gives a very bad accuracy\n",
    "# relative to the other 3. Standarf and Normalised with a accuracy of 99%\n",
    "# are the best."
   ]
  },
  {
   "cell_type": "code",
   "execution_count": null,
   "metadata": {},
   "outputs": [],
   "source": [
    "# Now to do a Neural Network for wine dataset"
   ]
  },
  {
   "cell_type": "code",
   "execution_count": 275,
   "metadata": {},
   "outputs": [],
   "source": [
    "from sklearn.neural_network import MLPClassifier\n",
    "\n",
    "classifier = MLPClassifier(max_iter=5000,\n",
    "                           hidden_layer_sizes=[10],\n",
    "                          random_state=1103)\n",
    "\n",
    "# max_iter to get rid of errors.\n"
   ]
  },
  {
   "cell_type": "code",
   "execution_count": null,
   "metadata": {},
   "outputs": [],
   "source": [
    "# Task 3/4 using neural net, firstly using cross val score"
   ]
  },
  {
   "cell_type": "code",
   "execution_count": 227,
   "metadata": {},
   "outputs": [
    {
     "data": {
      "text/plain": [
       "0.46096866096866096"
      ]
     },
     "execution_count": 227,
     "metadata": {},
     "output_type": "execute_result"
    }
   ],
   "source": [
    "cross_validation = cross_val_score(classifier, X_train_w, y_train_w)\n",
    "np.mean(cross_validation)"
   ]
  },
  {
   "cell_type": "code",
   "execution_count": 154,
   "metadata": {},
   "outputs": [
    {
     "data": {
      "text/plain": [
       "0.4444444444444444"
      ]
     },
     "execution_count": 154,
     "metadata": {},
     "output_type": "execute_result"
    }
   ],
   "source": [
    "classifier.fit(X_train_w, y_train_w)\n",
    "classifier.score(X_test_w, y_test_w)"
   ]
  },
  {
   "cell_type": "code",
   "execution_count": null,
   "metadata": {},
   "outputs": [],
   "source": [
    "# These values are much less accurate using a neural net compared to\n",
    "# what we tried before. These are bascially unusable."
   ]
  },
  {
   "cell_type": "code",
   "execution_count": null,
   "metadata": {},
   "outputs": [],
   "source": [
    "# Now moving onto task 5/6 "
   ]
  },
  {
   "cell_type": "code",
   "execution_count": 273,
   "metadata": {},
   "outputs": [
    {
     "name": "stdout",
     "output_type": "stream",
     "text": [
      "Best cross-validation accuracy: 0.9703296703296704\n",
      "Test set score: 0.9555555555555556\n",
      "Best parameters: {'mlpclassifier__alpha': 1, 'mlpclassifier__hidden_layer_sizes': (50,)}\n"
     ]
    }
   ],
   "source": [
    "# Standard Scalar\n",
    "\n",
    "pipe_SS = make_pipeline(StandardScaler(), classifier)\n",
    "param_grid = {'mlpclassifier__alpha': [0.001, 0.01, 0.1, 1],\n",
    "  'mlpclassifier__hidden_layer_sizes': [(50,), (100,)]}\n",
    "grid = GridSearchCV(pipe_SS, param_grid=param_grid, cv=10)\n",
    "grid.fit(X_train_w, y_train_w)\n",
    "print(\"Best cross-validation accuracy:\", grid.best_score_)\n",
    "print(\"Test set score:\", grid.score(X_test_w, y_test_w))\n",
    "print(\"Best parameters:\", grid.best_params_)"
   ]
  },
  {
   "cell_type": "code",
   "execution_count": 244,
   "metadata": {},
   "outputs": [
    {
     "name": "stdout",
     "output_type": "stream",
     "text": [
      "Best cross-validation accuracy: 0.9104395604395605\n",
      "Test set score: 0.8888888888888888\n",
      "Best parameters: {'mlpclassifier__alpha': 0.001, 'mlpclassifier__hidden_layer_sizes': (100,)}\n"
     ]
    }
   ],
   "source": [
    "# Normaliser\n",
    "\n",
    "pipe_N = make_pipeline(Normalizer(), classifier)\n",
    "param_grid = {'mlpclassifier__alpha': [0.001, 0.01, 0.1, 1],\n",
    "  'mlpclassifier__hidden_layer_sizes': [(50,), (100,)]}\n",
    "grid = GridSearchCV(pipe_N, param_grid=param_grid, cv=10)\n",
    "grid.fit(X_train_w, y_train_w)\n",
    "print(\"Best cross-validation accuracy:\", grid.best_score_)\n",
    "print(\"Test set score:\", grid.score(X_test_w, y_test_w))\n",
    "print(\"Best parameters:\", grid.best_params_)"
   ]
  },
  {
   "cell_type": "code",
   "execution_count": null,
   "metadata": {},
   "outputs": [],
   "source": [
    "# By setting max iterations of the MLPClassifier to 5000, it gets rid of\n",
    "# the errors from reaching them."
   ]
  },
  {
   "cell_type": "code",
   "execution_count": null,
   "metadata": {},
   "outputs": [],
   "source": [
    "# Using neural nets, my standard scalar accuracies have improved as\n",
    "# opposed to what we tried before.\n",
    "# However, the normaliser's accuracy has diminished slightly, but these\n",
    "# accuracies are still okay in general."
   ]
  },
  {
   "cell_type": "code",
   "execution_count": null,
   "metadata": {},
   "outputs": [],
   "source": [
    "# Now to do a Neural Network for USPS dataset"
   ]
  },
  {
   "cell_type": "code",
   "execution_count": 264,
   "metadata": {},
   "outputs": [
    {
     "data": {
      "text/plain": [
       "0.9749030921049249"
      ]
     },
     "execution_count": 264,
     "metadata": {},
     "output_type": "execute_result"
    }
   ],
   "source": [
    "# using classifier from neural net wine dataset.\n",
    "\n",
    "cross_validation = cross_val_score(classifier, X_train_USPS, y_train_USPS)\n",
    "np.mean(cross_validation)"
   ]
  },
  {
   "cell_type": "code",
   "execution_count": 265,
   "metadata": {},
   "outputs": [
    {
     "data": {
      "text/plain": [
       "0.9806451612903225"
      ]
     },
     "execution_count": 265,
     "metadata": {},
     "output_type": "execute_result"
    }
   ],
   "source": [
    "classifier.fit(X_train_USPS, y_train_USPS)\n",
    "classifier.score(X_test_USPS, y_test_USPS)"
   ]
  },
  {
   "cell_type": "code",
   "execution_count": null,
   "metadata": {},
   "outputs": [],
   "source": [
    "# Both accuracies of cross validation and neural net (MLPClassifer) are\n",
    "# similar and quite high which is good.\n",
    "# However svm (we did before) was 99% accuracy which was slightly better"
   ]
  },
  {
   "cell_type": "code",
   "execution_count": 267,
   "metadata": {},
   "outputs": [
    {
     "name": "stdout",
     "output_type": "stream",
     "text": [
      "Best cross-validation accuracy: 0.9810688871257497\n",
      "Test set score: 0.9840860215053764\n",
      "Best parameters: {'mlpclassifier__alpha': 0.1, 'mlpclassifier__hidden_layer_sizes': (100,)}\n"
     ]
    }
   ],
   "source": [
    "# Standard Scaler\n",
    "\n",
    "param_grid = {'mlpclassifier__alpha': [0.001, 0.01, 0.1, 1],\n",
    "  'mlpclassifier__hidden_layer_sizes': [(50,), (100,)]}\n",
    "grid = GridSearchCV(pipe_SS, param_grid=param_grid, cv=10)\n",
    "grid.fit(X_train_USPS, y_train_USPS)\n",
    "print(\"Best cross-validation accuracy:\", grid.best_score_)\n",
    "print(\"Test set score:\", grid.score(X_test_USPS, y_test_USPS))\n",
    "print(\"Best parameters:\", grid.best_params_)"
   ]
  },
  {
   "cell_type": "code",
   "execution_count": 268,
   "metadata": {},
   "outputs": [
    {
     "name": "stdout",
     "output_type": "stream",
     "text": [
      "Best cross-validation accuracy: 0.9868067403074164\n",
      "Test set score: 0.9896774193548387\n",
      "Best parameters: {'mlpclassifier__alpha': 0.01, 'mlpclassifier__hidden_layer_sizes': (100,)}\n"
     ]
    }
   ],
   "source": [
    "# Normaliser\n",
    "\n",
    "grid = GridSearchCV(pipe_N, param_grid=param_grid, cv=10)\n",
    "grid.fit(X_train_USPS, y_train_USPS)\n",
    "print(\"Best cross-validation accuracy:\", grid.best_score_)\n",
    "print(\"Test set score:\", grid.score(X_test_USPS, y_test_USPS))\n",
    "print(\"Best parameters:\", grid.best_params_)"
   ]
  },
  {
   "cell_type": "code",
   "execution_count": null,
   "metadata": {},
   "outputs": [],
   "source": [
    "# Neaural nets for USPS proved to be quite accurate with accuracy of 98%\n",
    "# for both\n",
    "# Before when we didn't use neural nets we got 99% for both so we see\n",
    "# only a slight decrease.\n",
    "# Perhaps it was better to stick without neural nets."
   ]
  }
 ],
 "metadata": {
  "kernelspec": {
   "display_name": "Python 3",
   "language": "python",
   "name": "python3"
  },
  "language_info": {
   "codemirror_mode": {
    "name": "ipython",
    "version": 3
   },
   "file_extension": ".py",
   "mimetype": "text/x-python",
   "name": "python",
   "nbconvert_exporter": "python",
   "pygments_lexer": "ipython3",
   "version": "3.8.10"
  }
 },
 "nbformat": 4,
 "nbformat_minor": 4
}
