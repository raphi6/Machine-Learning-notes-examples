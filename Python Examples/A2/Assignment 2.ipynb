{
 "cells": [
  {
   "cell_type": "code",
   "execution_count": 279,
   "metadata": {},
   "outputs": [
    {
     "data": {
      "text/plain": [
       "(442, 10)"
      ]
     },
     "execution_count": 279,
     "metadata": {},
     "output_type": "execute_result"
    }
   ],
   "source": [
    "# Q1 Loading the dataset\n",
    "\n",
    "import numpy as np\n",
    "import math\n",
    "from sklearn.datasets import load_diabetes\n",
    "from sklearn.model_selection import train_test_split\n",
    "from sklearn.linear_model import LinearRegression\n",
    "diabetes = load_diabetes()\n",
    "diabetes.data.shape"
   ]
  },
  {
   "cell_type": "code",
   "execution_count": 286,
   "metadata": {},
   "outputs": [],
   "source": [
    "# Q2 Splitting the dataset\n",
    "\n",
    "X_train_diabetes, X_test_diabetes, y_train_diabetes, y_test_diabetes = train_test_split(diabetes['data'],\n",
    "                                                                                        diabetes['target'],\n",
    "                                                                                        random_state=1103)\n"
   ]
  },
  {
   "cell_type": "code",
   "execution_count": 287,
   "metadata": {},
   "outputs": [
    {
     "data": {
      "text/plain": [
       "0.3334306024080044"
      ]
     },
     "execution_count": 287,
     "metadata": {},
     "output_type": "execute_result"
    }
   ],
   "source": [
    "# Q3 Finding train and test R^2, and listing the features in the dataset\n",
    "\n",
    "from sklearn.linear_model import Lasso\n",
    "lassofit = Lasso().fit(X_train_diabetes, y_train_diabetes)\n",
    "\n",
    "# Below is Train R^2\n",
    "\n",
    "lassofit.score(X_train_diabetes, y_train_diabetes)"
   ]
  },
  {
   "cell_type": "code",
   "execution_count": 288,
   "metadata": {},
   "outputs": [
    {
     "data": {
      "text/plain": [
       "0.3874468825968844"
      ]
     },
     "execution_count": 288,
     "metadata": {},
     "output_type": "execute_result"
    }
   ],
   "source": [
    "# Below is Test R^2\n",
    "\n",
    "test = lassofit.score(X_test_diabetes, y_test_diabetes)\n",
    "test"
   ]
  },
  {
   "cell_type": "code",
   "execution_count": 289,
   "metadata": {},
   "outputs": [
    {
     "data": {
      "text/plain": [
       "['age', 'sex', 'bmi', 'bp', 's1', 's2', 's3', 's4', 's5', 's6']"
      ]
     },
     "execution_count": 289,
     "metadata": {},
     "output_type": "execute_result"
    }
   ],
   "source": [
    "# There are 10 features, of the following names: age, sex, bm1, bp, s1, s2, s3, s4, s5, s6\n",
    "\n",
    "diabetes['feature_names']"
   ]
  },
  {
   "cell_type": "code",
   "execution_count": 290,
   "metadata": {},
   "outputs": [
    {
     "data": {
      "text/plain": [
       "(442, 10)"
      ]
     },
     "execution_count": 290,
     "metadata": {},
     "output_type": "execute_result"
    }
   ],
   "source": [
    "\n",
    "# Q4 , this is for the original diabetes.data provided in assingment.\n",
    "\n",
    "original_data = np.genfromtxt('diabetes.data', skip_header = 1, usecols = range(10))\n",
    "original_data\n",
    "original_data.shape"
   ]
  },
  {
   "cell_type": "code",
   "execution_count": 291,
   "metadata": {},
   "outputs": [],
   "source": [
    "original_label = np.genfromtxt('diabetes.data', skip_header = 1, usecols = 10)"
   ]
  },
  {
   "cell_type": "code",
   "execution_count": 292,
   "metadata": {},
   "outputs": [],
   "source": [
    "\n",
    "# Q5    Using above data and labels to train test split\n",
    "\n",
    "X_train_original, X_test_original, y_train_original, y_test_original = train_test_split(original_data,\n",
    "                                                                                        original_label, \n",
    "                                                                                        random_state = 1103)"
   ]
  },
  {
   "cell_type": "code",
   "execution_count": 293,
   "metadata": {},
   "outputs": [
    {
     "data": {
      "text/plain": [
       "0.4897740799209189"
      ]
     },
     "execution_count": 293,
     "metadata": {},
     "output_type": "execute_result"
    }
   ],
   "source": [
    "\n",
    "# Q6   Fitting data then first calculating train R^2 then test R^2\n",
    "\n",
    "lassofit_original = Lasso().fit(X_train_original, y_train_original)\n",
    "\n",
    "# score for training data\n",
    "\n",
    "lassofit_original.score(X_train_original, y_train_original)"
   ]
  },
  {
   "cell_type": "code",
   "execution_count": 294,
   "metadata": {},
   "outputs": [
    {
     "data": {
      "text/plain": [
       "0.5679088670072376"
      ]
     },
     "execution_count": 294,
     "metadata": {},
     "output_type": "execute_result"
    }
   ],
   "source": [
    "# score for test data\n",
    "\n",
    "lassofit_original.score(X_test_original, y_test_original)"
   ]
  },
  {
   "cell_type": "code",
   "execution_count": null,
   "metadata": {},
   "outputs": [],
   "source": [
    "# Using lasso R^2 with the dataset that has been normalised we can see that we have a \n",
    "# smaller variance than using the unnormalised."
   ]
  },
  {
   "cell_type": "code",
   "execution_count": 76,
   "metadata": {},
   "outputs": [],
   "source": [
    "\n",
    "# Q7    Now to use StandardScaler to preprocess data.\n"
   ]
  },
  {
   "cell_type": "code",
   "execution_count": 295,
   "metadata": {},
   "outputs": [],
   "source": [
    "from sklearn.preprocessing import StandardScaler\n",
    "standard_scaler = StandardScaler()\n"
   ]
  },
  {
   "cell_type": "code",
   "execution_count": 296,
   "metadata": {},
   "outputs": [
    {
     "data": {
      "text/plain": [
       "StandardScaler(copy=True, with_mean=True, with_std=True)"
      ]
     },
     "execution_count": 296,
     "metadata": {},
     "output_type": "execute_result"
    }
   ],
   "source": [
    "standard_scaler.fit(X_train_original)"
   ]
  },
  {
   "cell_type": "code",
   "execution_count": 297,
   "metadata": {},
   "outputs": [],
   "source": [
    "X_train_pp = standard_scaler.transform(X_train_original)\n",
    "X_test_pp = standard_scaler.transform(X_test_original)"
   ]
  },
  {
   "cell_type": "code",
   "execution_count": null,
   "metadata": {},
   "outputs": [],
   "source": [
    "\n",
    "# Q8     Computing Lasso again like before\n"
   ]
  },
  {
   "cell_type": "code",
   "execution_count": 298,
   "metadata": {},
   "outputs": [],
   "source": [
    "lassofit_pp = Lasso().fit(X_train_pp, y_train_original)"
   ]
  },
  {
   "cell_type": "code",
   "execution_count": null,
   "metadata": {},
   "outputs": [],
   "source": [
    "\n",
    "# Now computing scores\n"
   ]
  },
  {
   "cell_type": "code",
   "execution_count": 299,
   "metadata": {},
   "outputs": [
    {
     "data": {
      "text/plain": [
       "0.4901026094749654"
      ]
     },
     "execution_count": 299,
     "metadata": {},
     "output_type": "execute_result"
    }
   ],
   "source": [
    "# score for training data\n",
    "\n",
    "lassofit_pp.score(X_train_pp, y_train_original)"
   ]
  },
  {
   "cell_type": "code",
   "execution_count": 300,
   "metadata": {},
   "outputs": [
    {
     "data": {
      "text/plain": [
       "0.5724612092007035"
      ]
     },
     "execution_count": 300,
     "metadata": {},
     "output_type": "execute_result"
    }
   ],
   "source": [
    "# score for test data\n",
    "\n",
    "lassofit_pp.score(X_test_pp, y_test_original)"
   ]
  },
  {
   "cell_type": "code",
   "execution_count": 23,
   "metadata": {},
   "outputs": [
    {
     "name": "stdout",
     "output_type": "stream",
     "text": [
      "[2]\n"
     ]
    }
   ],
   "source": [
    "\n",
    "# Q9-10\n"
   ]
  },
  {
   "cell_type": "code",
   "execution_count": 301,
   "metadata": {},
   "outputs": [
    {
     "data": {
      "text/plain": [
       "[<matplotlib.lines.Line2D at 0x7f9cfa1cae20>]"
      ]
     },
     "execution_count": 301,
     "metadata": {},
     "output_type": "execute_result"
    },
    {
     "data": {
      "image/png": "[encoded data removed]",
      "text/plain": [
       "<Figure size 432x288 with 1 Axes>"
      ]
     },
     "metadata": {
      "needs_background": "light"
     },
     "output_type": "display_data"
    }
   ],
   "source": [
    "alphas = np.array([0.01, 0.1, 0.25, 0.5, 1, 2, 3, 4, 5, 10, 15, 20, 25, 50])\n",
    "r_scores = []\n",
    "handled = []\n",
    "for i in range(alphas.size):\n",
    "    lasso = Lasso(alpha = alphas[i], max_iter = 10000).fit(X_train_pp, y_train_original)\n",
    "    r_scores.append(lasso.score(X_test_pp, y_test_original))\n",
    "    handled.append(np.sum(lasso.coef_ != 0))\n",
    "\n",
    "plt.plot(r_scores, handled)"
   ]
  },
  {
   "cell_type": "code",
   "execution_count": 302,
   "metadata": {},
   "outputs": [
    {
     "data": {
      "text/plain": [
       "GridSearchCV(cv=5, error_score=nan,\n",
       "             estimator=Lasso(alpha=1.0, copy_X=True, fit_intercept=True,\n",
       "                             max_iter=1000, normalize=False, positive=False,\n",
       "                             precompute=False, random_state=None,\n",
       "                             selection='cyclic', tol=0.0001, warm_start=False),\n",
       "             iid='deprecated', n_jobs=None,\n",
       "             param_grid={'alpha': [0.01, 0.1, 0.25, 0.5, 1, 2, 3, 4, 5, 10, 15,\n",
       "                                   20, 25, 50]},\n",
       "             pre_dispatch='2*n_jobs', refit=True, return_train_score=False,\n",
       "             scoring=None, verbose=0)"
      ]
     },
     "execution_count": 302,
     "metadata": {},
     "output_type": "execute_result"
    }
   ],
   "source": [
    "from sklearn.model_selection import GridSearchCV\n",
    "\n",
    "# Now using cross validation instead\n",
    "#\n",
    "\n",
    "grid = {'alpha': [0.01 ,0.1, 0.25, 0.5, 1, 2, 3, 4, 5, 10, 15, 20, 25, 50]}\n",
    "\n",
    "grid_search = GridSearchCV(Lasso(), grid, cv = 5)\n",
    "\n",
    "grid_search.fit(X_train_pp, y_train_original)\n",
    "\n"
   ]
  },
  {
   "cell_type": "code",
   "execution_count": 303,
   "metadata": {},
   "outputs": [
    {
     "data": {
      "text/plain": [
       "0.4968745686001653"
      ]
     },
     "execution_count": 303,
     "metadata": {},
     "output_type": "execute_result"
    }
   ],
   "source": [
    "grid_search.score(X_train_pp, y_train_original)"
   ]
  },
  {
   "cell_type": "code",
   "execution_count": 304,
   "metadata": {},
   "outputs": [
    {
     "data": {
      "text/plain": [
       "0.5692942114825577"
      ]
     },
     "execution_count": 304,
     "metadata": {},
     "output_type": "execute_result"
    }
   ],
   "source": [
    "grid_search.score(X_test_pp, y_test_original)"
   ]
  },
  {
   "cell_type": "code",
   "execution_count": 305,
   "metadata": {},
   "outputs": [
    {
     "name": "stdout",
     "output_type": "stream",
     "text": [
      "10\n"
     ]
    }
   ],
   "source": [
    "\n",
    "# Number of features\n",
    "\n",
    "print(np.sum(grid_search.best_estimator_.coef_ != 0))"
   ]
  },
  {
   "cell_type": "code",
   "execution_count": 317,
   "metadata": {},
   "outputs": [
    {
     "data": {
      "text/plain": [
       "StandardScaler(copy=True, with_mean=True, with_std=True)"
      ]
     },
     "execution_count": 317,
     "metadata": {},
     "output_type": "execute_result"
    }
   ],
   "source": [
    "\n",
    "# Q11 \n",
    "\n",
    "X_train_proper, X_calib, y_train_proper, y_calib = train_test_split(X_train_original,\n",
    "                                                                    y_train_original,\n",
    "                                                                    test_size = 99, \n",
    "                                                                    random_state = 1103)\n",
    "\n",
    "standard_scaler.fit(X_train_proper)"
   ]
  },
  {
   "cell_type": "code",
   "execution_count": 318,
   "metadata": {},
   "outputs": [],
   "source": [
    "X_train = standard_scaler.transform(X_train_proper)\n",
    "X_calib = standard_scaler.transform(X_calib)\n",
    "X_test = standard_scaler.transform(X_test_original)"
   ]
  },
  {
   "cell_type": "code",
   "execution_count": null,
   "metadata": {},
   "outputs": [],
   "source": [
    "# Below just making sure/checking paramaters are the same as above.\n"
   ]
  },
  {
   "cell_type": "code",
   "execution_count": 319,
   "metadata": {},
   "outputs": [
    {
     "data": {
      "text/plain": [
       "{'alpha': [0.01, 0.1, 0.25, 0.5, 1, 2, 3, 4, 5, 10, 15, 20, 25, 50]}"
      ]
     },
     "execution_count": 319,
     "metadata": {},
     "output_type": "execute_result"
    }
   ],
   "source": [
    "grid"
   ]
  },
  {
   "cell_type": "code",
   "execution_count": 320,
   "metadata": {},
   "outputs": [
    {
     "data": {
      "text/plain": [
       "GridSearchCV(cv=5, error_score=nan,\n",
       "             estimator=Lasso(alpha=1.0, copy_X=True, fit_intercept=True,\n",
       "                             max_iter=1000, normalize=False, positive=False,\n",
       "                             precompute=False, random_state=None,\n",
       "                             selection='cyclic', tol=0.0001, warm_start=False),\n",
       "             iid='deprecated', n_jobs=None,\n",
       "             param_grid={'alpha': [0.01, 0.1, 0.25, 0.5, 1, 2, 3, 4, 5, 10, 15,\n",
       "                                   20, 25, 50]},\n",
       "             pre_dispatch='2*n_jobs', refit=True, return_train_score=False,\n",
       "             scoring=None, verbose=0)"
      ]
     },
     "execution_count": 320,
     "metadata": {},
     "output_type": "execute_result"
    }
   ],
   "source": [
    "grid_search"
   ]
  },
  {
   "cell_type": "code",
   "execution_count": 321,
   "metadata": {},
   "outputs": [
    {
     "data": {
      "text/plain": [
       "GridSearchCV(cv=5, error_score=nan,\n",
       "             estimator=Lasso(alpha=1.0, copy_X=True, fit_intercept=True,\n",
       "                             max_iter=1000, normalize=False, positive=False,\n",
       "                             precompute=False, random_state=None,\n",
       "                             selection='cyclic', tol=0.0001, warm_start=False),\n",
       "             iid='deprecated', n_jobs=None,\n",
       "             param_grid={'alpha': [0.01, 0.1, 0.25, 0.5, 1, 2, 3, 4, 5, 10, 15,\n",
       "                                   20, 25, 50]},\n",
       "             pre_dispatch='2*n_jobs', refit=True, return_train_score=False,\n",
       "             scoring=None, verbose=0)"
      ]
     },
     "execution_count": 321,
     "metadata": {},
     "output_type": "execute_result"
    }
   ],
   "source": [
    "grid_search.fit(X_train_proper, y_train_proper)"
   ]
  },
  {
   "cell_type": "code",
   "execution_count": 322,
   "metadata": {},
   "outputs": [],
   "source": [
    "y_c_pred = grid_search.predict(X_calib)"
   ]
  },
  {
   "cell_type": "code",
   "execution_count": 323,
   "metadata": {},
   "outputs": [],
   "source": [
    "y_calib.size\n",
    "\n",
    "def absolute_val(z):\n",
    "    return ((z ** 2) ** 0.5)\n",
    "\n",
    "non_conformity_scores = []\n",
    "for i in range(y_calib.size):\n",
    "    x = (y_calib[i] - y_c_pred[i])\n",
    "    non_conformity_scores.append(absolute_val(x))\n"
   ]
  },
  {
   "cell_type": "code",
   "execution_count": null,
   "metadata": {},
   "outputs": [],
   "source": [
    "\n",
    "# Now we have non conformity scores absolute values so it is time to compute 5, 20 %\n",
    "# significance levels\n"
   ]
  },
  {
   "cell_type": "code",
   "execution_count": 324,
   "metadata": {},
   "outputs": [
    {
     "name": "stdout",
     "output_type": "stream",
     "text": [
      "94\n",
      "79\n"
     ]
    }
   ],
   "source": [
    "size = len(non_conformity_scores)\n",
    "ncs_sorted = np.sort(non_conformity_scores)\n",
    "\n",
    "fifth_percentile = size - round(size*0.05)\n",
    "print(fifth_percentile)\n",
    "\n",
    "twentieth_percentile = size - round(size*0.20)\n",
    "print(twentieth_percentile)"
   ]
  },
  {
   "cell_type": "code",
   "execution_count": 325,
   "metadata": {},
   "outputs": [
    {
     "name": "stdout",
     "output_type": "stream",
     "text": [
      "634.9092962719985\n",
      "568.7318884638619\n"
     ]
    }
   ],
   "source": [
    "size = 99\n",
    "\n",
    "\n",
    "\n",
    "test_length_5 = ncs_sorted[fifth_percentile]\n",
    "print(test_length_5)\n",
    "test_length_20 = ncs_sorted[twentieth_percentile]\n",
    "print(test_length_20)"
   ]
  },
  {
   "cell_type": "code",
   "execution_count": 326,
   "metadata": {},
   "outputs": [
    {
     "name": "stdout",
     "output_type": "stream",
     "text": [
      "Test error rate for 5% confidence is 0.036036036036036036\n",
      "Test error rate for 20% confidence is  0.12612612612612611\n"
     ]
    }
   ],
   "source": [
    "\n",
    "number_errors_5 = 0  \n",
    "number_errors_20 = 0  \n",
    "\n",
    "\n",
    "y_test_pred = grid_search.predict(X_test)\n",
    "y_tp_size = y_test_pred.size\n",
    "\n",
    "for j in range(y_test_original.size):\n",
    "  \n",
    "    \n",
    "\n",
    "    abso_vals = []\n",
    "    for i in range(y_tp_size):\n",
    "        diff = (y_test_original[i] - y_test_pred[i])\n",
    "        abso = absolute_val(diff)\n",
    "        abso_vals.append(abso)\n",
    "        \n",
    "    \n",
    "    \n",
    "    if (abso_vals[j] > test_length_5):\n",
    "        number_errors_5 = number_errors_5 + 1\n",
    "        \n",
    "    elif (abso_vals[j] > test_length_20):\n",
    "        number_errors_20 = number_errors_20 + 1\n",
    "    \n",
    "    \n",
    "    \n",
    "print(\"Test error rate for 5% confidence is\", number_errors_5 / y_test_original.size)\n",
    "print(\"Test error rate for 20% confidence is \", number_errors_20 / y_test_original.size)"
   ]
  }
 ],
 "metadata": {
  "kernelspec": {
   "display_name": "Python 3",
   "language": "python",
   "name": "python3"
  },
  "language_info": {
   "codemirror_mode": {
    "name": "ipython",
    "version": 3
   },
   "file_extension": ".py",
   "mimetype": "text/x-python",
   "name": "python",
   "nbconvert_exporter": "python",
   "pygments_lexer": "ipython3",
   "version": "3.8.10"
  }
 },
 "nbformat": 4,
 "nbformat_minor": 4
}
